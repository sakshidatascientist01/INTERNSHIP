{
 "cells": [
  {
   "cell_type": "code",
   "execution_count": 1,
   "id": "2de7d806",
   "metadata": {},
   "outputs": [
    {
     "name": "stdout",
     "output_type": "stream",
     "text": [
      "Python:Exercises::PHP:exercises:\n"
     ]
    }
   ],
   "source": [
    "#question 1 \n",
    "def replace_chars_with_colon(text: str) -> str:\n",
    "    return text.replace(' ', ':').replace(',', ':').replace('.', ':')\n",
    "\n",
    "sample_text = 'Python Exercises, PHP exercises.'\n",
    "print(replace_chars_with_colon(sample_text))"
   ]
  },
  {
   "cell_type": "code",
   "execution_count": 2,
   "id": "f15d5ee5",
   "metadata": {},
   "outputs": [
    {
     "name": "stdout",
     "output_type": "stream",
     "text": [
      "['Apples', 'avacado', 'and', 'are', 'all']\n"
     ]
    }
   ],
   "source": [
    "#question 2\n",
    "import re\n",
    "\n",
    "def find_words_starting_with_a_or_e(input_string):\n",
    "    pattern = re.compile(r'\\b[aeAE]\\w+\\b')\n",
    "    return pattern.findall(input_string)\n",
    "\n",
    "# Example usage\n",
    "input_text = \"Apples , avacado , bananas , kiwi and orange are all delicious fruits.\"\n",
    "result = find_words_starting_with_a_or_e(input_text)\n",
    "print(result)"
   ]
  },
  {
   "cell_type": "code",
   "execution_count": 5,
   "id": "f80eabef",
   "metadata": {},
   "outputs": [
    {
     "name": "stdout",
     "output_type": "stream",
     "text": [
      "['python', 'tableau', 'very', 'powerful', 'programming', 'languages']\n"
     ]
    }
   ],
   "source": [
    "#question 3\n",
    "import re\n",
    "\n",
    "def find_words_at_least_4_characters(input_string):\n",
    "    pattern = re.compile(r'\\b\\w{4,}\\b')\n",
    "    return pattern.findall(input_string)\n",
    "\n",
    "# Example usage\n",
    "input_text = \"python, sql and tableau are all very powerful programming languages.\"\n",
    "result = find_words_at_least_4_characters(input_text)\n",
    "print(result)"
   ]
  },
  {
   "cell_type": "code",
   "execution_count": 6,
   "id": "eb2fafe3",
   "metadata": {},
   "outputs": [
    {
     "name": "stdout",
     "output_type": "stream",
     "text": [
      "['study', 'and', 'delhi']\n"
     ]
    }
   ],
   "source": [
    "#question 4 \n",
    "import re\n",
    "\n",
    "def find_words_of_lengths(input_string):\n",
    "    pattern = re.compile(r'\\b\\w{3,5}\\b')\n",
    "    return pattern.findall(input_string)\n",
    "\n",
    "# Example usage\n",
    "input_text = \"I study economics and mathematics in delhi university.\"\n",
    "result = find_words_of_lengths(input_text)\n",
    "print(result)"
   ]
  },
  {
   "cell_type": "code",
   "execution_count": 7,
   "id": "d9a0b2cf",
   "metadata": {},
   "outputs": [
    {
     "name": "stdout",
     "output_type": "stream",
     "text": [
      "example (.com)\n",
      "hr@fliprobo (.com)\n",
      "github (.com)\n",
      "Hello (Data Science World)\n",
      "Data (Scientist)\n"
     ]
    }
   ],
   "source": [
    "#question 5\n",
    "import re\n",
    "\n",
    "def remove_parentheses_from_list(string_list):\n",
    "    pattern = re.compile(r'\\s*\\([^)]\\)\\s')\n",
    "    return [pattern.sub('', s) for s in string_list]\n",
    "\n",
    "# Example usage\n",
    "input_text = [\n",
    "    \"example (.com)\",\n",
    "    \"hr@fliprobo (.com)\",\n",
    "    \"github (.com)\",\n",
    "    \"Hello (Data Science World)\",\n",
    "    \"Data (Scientist)\"\n",
    "]\n",
    "\n",
    "result = remove_parentheses_from_list(input_text)\n",
    "for item in result:\n",
    "    print(item)"
   ]
  },
  {
   "cell_type": "code",
   "execution_count": 18,
   "id": "e4c3c367",
   "metadata": {},
   "outputs": [
    {
     "ename": "FileNotFoundError",
     "evalue": "[Errno 2] No such file or directory: 'sample_text.txt'",
     "output_type": "error",
     "traceback": [
      "\u001b[1;31m---------------------------------------------------------------------------\u001b[0m",
      "\u001b[1;31mFileNotFoundError\u001b[0m                         Traceback (most recent call last)",
      "Cell \u001b[1;32mIn[18], line 9\u001b[0m\n\u001b[0;32m      6\u001b[0m     \u001b[38;5;28;01mreturn\u001b[39;00m [pattern\u001b[38;5;241m.\u001b[39msub(\u001b[38;5;124m'\u001b[39m\u001b[38;5;124m'\u001b[39m, s) \u001b[38;5;28;01mfor\u001b[39;00m s \u001b[38;5;129;01min\u001b[39;00m input_text]\n\u001b[0;32m      8\u001b[0m \u001b[38;5;66;03m# Read the sample text from the file\u001b[39;00m\n\u001b[1;32m----> 9\u001b[0m \u001b[38;5;28;01mwith\u001b[39;00m \u001b[38;5;28;43mopen\u001b[39;49m\u001b[43m(\u001b[49m\u001b[38;5;124;43m\"\u001b[39;49m\u001b[38;5;124;43msample_text.txt\u001b[39;49m\u001b[38;5;124;43m\"\u001b[39;49m\u001b[43m,\u001b[49m\u001b[43m \u001b[49m\u001b[38;5;124;43m\"\u001b[39;49m\u001b[38;5;124;43mr\u001b[39;49m\u001b[38;5;124;43m\"\u001b[39;49m\u001b[43m)\u001b[49m \u001b[38;5;28;01mas\u001b[39;00m file:\n\u001b[0;32m     10\u001b[0m     sample_text \u001b[38;5;241m=\u001b[39m file\u001b[38;5;241m.\u001b[39mreadlines()\n\u001b[0;32m     12\u001b[0m \u001b[38;5;66;03m# Remove parentheses and print the cleaned strings\u001b[39;00m\n",
      "File \u001b[1;32m~\\anaconda3\\lib\\site-packages\\IPython\\core\\interactiveshell.py:282\u001b[0m, in \u001b[0;36m_modified_open\u001b[1;34m(file, *args, **kwargs)\u001b[0m\n\u001b[0;32m    275\u001b[0m \u001b[38;5;28;01mif\u001b[39;00m file \u001b[38;5;129;01min\u001b[39;00m {\u001b[38;5;241m0\u001b[39m, \u001b[38;5;241m1\u001b[39m, \u001b[38;5;241m2\u001b[39m}:\n\u001b[0;32m    276\u001b[0m     \u001b[38;5;28;01mraise\u001b[39;00m \u001b[38;5;167;01mValueError\u001b[39;00m(\n\u001b[0;32m    277\u001b[0m         \u001b[38;5;124mf\u001b[39m\u001b[38;5;124m\"\u001b[39m\u001b[38;5;124mIPython won\u001b[39m\u001b[38;5;124m'\u001b[39m\u001b[38;5;124mt let you open fd=\u001b[39m\u001b[38;5;132;01m{\u001b[39;00mfile\u001b[38;5;132;01m}\u001b[39;00m\u001b[38;5;124m by default \u001b[39m\u001b[38;5;124m\"\u001b[39m\n\u001b[0;32m    278\u001b[0m         \u001b[38;5;124m\"\u001b[39m\u001b[38;5;124mas it is likely to crash IPython. If you know what you are doing, \u001b[39m\u001b[38;5;124m\"\u001b[39m\n\u001b[0;32m    279\u001b[0m         \u001b[38;5;124m\"\u001b[39m\u001b[38;5;124myou can use builtins\u001b[39m\u001b[38;5;124m'\u001b[39m\u001b[38;5;124m open.\u001b[39m\u001b[38;5;124m\"\u001b[39m\n\u001b[0;32m    280\u001b[0m     )\n\u001b[1;32m--> 282\u001b[0m \u001b[38;5;28;01mreturn\u001b[39;00m io_open(file, \u001b[38;5;241m*\u001b[39margs, \u001b[38;5;241m*\u001b[39m\u001b[38;5;241m*\u001b[39mkwargs)\n",
      "\u001b[1;31mFileNotFoundError\u001b[0m: [Errno 2] No such file or directory: 'sample_text.txt'"
     ]
    }
   ],
   "source": [
    "#question 6\n",
    " #i was constantly getting errors while solving this question"
   ]
  },
  {
   "cell_type": "code",
   "execution_count": 19,
   "id": "4b475932",
   "metadata": {},
   "outputs": [
    {
     "name": "stdout",
     "output_type": "stream",
     "text": [
      "['', 'Importance', 'Of', 'Regular', 'Expressions', 'In', 'Python']\n"
     ]
    }
   ],
   "source": [
    "#question7\n",
    "import re\n",
    "\n",
    "sample_text = \"ImportanceOfRegularExpressionsInPython\"\n",
    "result = re.split(r'(?=[A-Z])', sample_text)\n",
    "print(result)\n"
   ]
  },
  {
   "cell_type": "code",
   "execution_count": 27,
   "id": "59c41da0",
   "metadata": {},
   "outputs": [
    {
     "name": "stdout",
     "output_type": "stream",
     "text": [
      "RegularExpression1 IsAn2 ImportantTopic3 InPython\n"
     ]
    }
   ],
   "source": [
    "#question 8 \n",
    "import re\n",
    "\n",
    "def insert_spaces_between_numbers_and_words(input_text):\n",
    "    pattern = re.compile(r'(?<=\\d)(?=[A-Za-z])')\n",
    "    return pattern.sub(' ', input_text)\n",
    "\n",
    "# Example usage\n",
    "sample_text = \"RegularExpression1IsAn2ImportantTopic3InPython\"\n",
    "result = insert_spaces_between_numbers_and_words(sample_text)\n",
    "print(result)"
   ]
  },
  {
   "cell_type": "code",
   "execution_count": 26,
   "id": "0de6cf2c",
   "metadata": {},
   "outputs": [
    {
     "name": "stdout",
     "output_type": "stream",
     "text": [
      "Regular Expression 1 Is An 2 Important Topic 3 In Python\n"
     ]
    }
   ],
   "source": [
    "#question 9\n",
    "import re\n",
    "\n",
    "def insert_spaces(text):\n",
    "    # Use regular expression to find words starting with capital letters or numbers\n",
    "    pattern = r'(?<=[a-z])(?=[A-Z0-9])|(?<=[0-9])(?=[A-Za-z])'\n",
    "    modified_text = re.sub(pattern, ' ', text)\n",
    "    return modified_text\n",
    "\n",
    "sample_text = \"RegularExpression1IsAn2ImportantTopic3InPython\"\n",
    "output = insert_spaces(sample_text)\n",
    "print(output)\n"
   ]
  },
  {
   "cell_type": "code",
   "execution_count": 25,
   "id": "45690e76",
   "metadata": {},
   "outputs": [
    {
     "ename": "SyntaxError",
     "evalue": "unterminated string literal (detected at line 4) (1390325293.py, line 4)",
     "output_type": "error",
     "traceback": [
      "\u001b[1;36m  Cell \u001b[1;32mIn[25], line 4\u001b[1;36m\u001b[0m\n\u001b[1;33m    def extract_email_addresses(\"Hello my name is Data Science and my email address is xyz@domain.com and alternate email address is xyz.abc@sdomain.domain.com.\u001b[0m\n\u001b[1;37m                                ^\u001b[0m\n\u001b[1;31mSyntaxError\u001b[0m\u001b[1;31m:\u001b[0m unterminated string literal (detected at line 4)\n"
     ]
    }
   ],
   "source": [
    "#question 10\n",
    "was constantly getting errors\n"
   ]
  },
  {
   "cell_type": "code",
   "execution_count": 28,
   "id": "a1db3020",
   "metadata": {},
   "outputs": [
    {
     "name": "stdout",
     "output_type": "stream",
     "text": [
      "'Valid_String123' is a valid string.\n",
      "'Another_Valid_123' is a valid string.\n",
      "'Invalid String' is not a valid string.\n",
      "'123_Invalid' is a valid string.\n",
      "'_Only_Underscore' is a valid string.\n",
      "'ValidString_with_underscore' is a valid string.\n"
     ]
    }
   ],
   "source": [
    "#question11\n",
    "import re\n",
    "\n",
    "def is_valid_string(input_string):\n",
    "    pattern = re.compile(r'^[a-zA-Z0-9_]+$')\n",
    "    return pattern.match(input_string) is not None\n",
    "\n",
    "# Test the function with various inputs\n",
    "test_strings = [\n",
    "    \"Valid_String123\",\n",
    "    \"Another_Valid_123\",\n",
    "    \"Invalid String\",\n",
    "    \"123_Invalid\",\n",
    "    \"_Only_Underscore\",\n",
    "    \"ValidString_with_underscore\"\n",
    "]\n",
    "\n",
    "for test_string in test_strings:\n",
    "    if is_valid_string(test_string):\n",
    "        print(f\"'{test_string}' is a valid string.\")\n",
    "    else:\n",
    "        print(f\"'{test_string}' is not a valid string.\")"
   ]
  },
  {
   "cell_type": "code",
   "execution_count": 29,
   "id": "fbc35c38",
   "metadata": {},
   "outputs": [
    {
     "name": "stdout",
     "output_type": "stream",
     "text": [
      "'123_example' starts with 123.\n",
      "'456_text' does not start with 123.\n",
      "'789_another_example' does not start with 123.\n",
      "'abc_123' does not start with 123.\n",
      "'xyz_456' does not start with 123.\n"
     ]
    }
   ],
   "source": [
    "#question12\n",
    "def starts_with_number(input_string, specific_number):\n",
    "    return input_string.startswith(str(specific_number))\n",
    "\n",
    "# Test the function with various inputs\n",
    "test_strings = [\n",
    "    \"123_example\",\n",
    "    \"456_text\",\n",
    "    \"789_another_example\",\n",
    "    \"abc_123\",\n",
    "    \"xyz_456\"\n",
    "]\n",
    "\n",
    "specific_number = 123\n",
    "\n",
    "for test_string in test_strings:\n",
    "    if starts_with_number(test_string, specific_number):\n",
    "        print(f\"'{test_string}' starts with {specific_number}.\")\n",
    "    else:\n",
    "        print(f\"'{test_string}' does not start with {specific_number}.\")"
   ]
  },
  {
   "cell_type": "code",
   "execution_count": 30,
   "id": "20afa26a",
   "metadata": {},
   "outputs": [
    {
     "name": "stdout",
     "output_type": "stream",
     "text": [
      "Original IP: 192.168.001.001, Cleaned IP: 192.168.1.1\n",
      "Original IP: 001.002.003.004, Cleaned IP: 1.2.3.4\n",
      "Original IP: 010.020.030.040, Cleaned IP: 10.20.30.40\n",
      "Original IP: 255.000.255.000, Cleaned IP: 255.0.255.0\n"
     ]
    }
   ],
   "source": [
    "#question13\n",
    "def remove_leading_zeros(ip_address):\n",
    "    # Split the IP address into octets\n",
    "    octets = ip_address.split('.')\n",
    "    \n",
    "    # Remove leading zeros from each octet\n",
    "    cleaned_octets = [str(int(octet)) for octet in octets]\n",
    "    \n",
    "    # Join the cleaned octets to form the new IP address\n",
    "    cleaned_ip = '.'.join(cleaned_octets)\n",
    "    \n",
    "    return cleaned_ip\n",
    "\n",
    "# Test the function\n",
    "ip_addresses = [\n",
    "    \"192.168.001.001\",\n",
    "    \"001.002.003.004\",\n",
    "    \"010.020.030.040\",\n",
    "    \"255.000.255.000\"\n",
    "]\n",
    "\n",
    "for ip_address in ip_addresses:\n",
    "    cleaned_ip = remove_leading_zeros(ip_address)\n",
    "    print(f\"Original IP: {ip_address}, Cleaned IP: {cleaned_ip}\")"
   ]
  },
  {
   "cell_type": "code",
   "execution_count": 31,
   "id": "9dc97231",
   "metadata": {},
   "outputs": [
    {
     "ename": "FileNotFoundError",
     "evalue": "[Errno 2] No such file or directory: 'sample_text.txt'",
     "output_type": "error",
     "traceback": [
      "\u001b[1;31m---------------------------------------------------------------------------\u001b[0m",
      "\u001b[1;31mFileNotFoundError\u001b[0m                         Traceback (most recent call last)",
      "Cell \u001b[1;32mIn[31], line 9\u001b[0m\n\u001b[0;32m      6\u001b[0m     \u001b[38;5;28;01mreturn\u001b[39;00m pattern\u001b[38;5;241m.\u001b[39mfindall(input_text)\n\u001b[0;32m      8\u001b[0m \u001b[38;5;66;03m# Read the sample text from the file\u001b[39;00m\n\u001b[1;32m----> 9\u001b[0m \u001b[38;5;28;01mwith\u001b[39;00m \u001b[38;5;28;43mopen\u001b[39;49m\u001b[43m(\u001b[49m\u001b[38;5;124;43m\"\u001b[39;49m\u001b[38;5;124;43msample_text.txt\u001b[39;49m\u001b[38;5;124;43m\"\u001b[39;49m\u001b[43m,\u001b[49m\u001b[43m \u001b[49m\u001b[38;5;124;43m\"\u001b[39;49m\u001b[38;5;124;43mr\u001b[39;49m\u001b[38;5;124;43m\"\u001b[39;49m\u001b[43m)\u001b[49m \u001b[38;5;28;01mas\u001b[39;00m file:\n\u001b[0;32m     10\u001b[0m     sample_text \u001b[38;5;241m=\u001b[39m file\u001b[38;5;241m.\u001b[39mread()\n\u001b[0;32m     12\u001b[0m \u001b[38;5;66;03m# Extract and print the date strings\u001b[39;00m\n",
      "File \u001b[1;32m~\\anaconda3\\lib\\site-packages\\IPython\\core\\interactiveshell.py:282\u001b[0m, in \u001b[0;36m_modified_open\u001b[1;34m(file, *args, **kwargs)\u001b[0m\n\u001b[0;32m    275\u001b[0m \u001b[38;5;28;01mif\u001b[39;00m file \u001b[38;5;129;01min\u001b[39;00m {\u001b[38;5;241m0\u001b[39m, \u001b[38;5;241m1\u001b[39m, \u001b[38;5;241m2\u001b[39m}:\n\u001b[0;32m    276\u001b[0m     \u001b[38;5;28;01mraise\u001b[39;00m \u001b[38;5;167;01mValueError\u001b[39;00m(\n\u001b[0;32m    277\u001b[0m         \u001b[38;5;124mf\u001b[39m\u001b[38;5;124m\"\u001b[39m\u001b[38;5;124mIPython won\u001b[39m\u001b[38;5;124m'\u001b[39m\u001b[38;5;124mt let you open fd=\u001b[39m\u001b[38;5;132;01m{\u001b[39;00mfile\u001b[38;5;132;01m}\u001b[39;00m\u001b[38;5;124m by default \u001b[39m\u001b[38;5;124m\"\u001b[39m\n\u001b[0;32m    278\u001b[0m         \u001b[38;5;124m\"\u001b[39m\u001b[38;5;124mas it is likely to crash IPython. If you know what you are doing, \u001b[39m\u001b[38;5;124m\"\u001b[39m\n\u001b[0;32m    279\u001b[0m         \u001b[38;5;124m\"\u001b[39m\u001b[38;5;124myou can use builtins\u001b[39m\u001b[38;5;124m'\u001b[39m\u001b[38;5;124m open.\u001b[39m\u001b[38;5;124m\"\u001b[39m\n\u001b[0;32m    280\u001b[0m     )\n\u001b[1;32m--> 282\u001b[0m \u001b[38;5;28;01mreturn\u001b[39;00m io_open(file, \u001b[38;5;241m*\u001b[39margs, \u001b[38;5;241m*\u001b[39m\u001b[38;5;241m*\u001b[39mkwargs)\n",
      "\u001b[1;31mFileNotFoundError\u001b[0m: [Errno 2] No such file or directory: 'sample_text.txt'"
     ]
    }
   ],
   "source": [
    "#question 14\n",
    "was showing errors\n"
   ]
  },
  {
   "cell_type": "code",
   "execution_count": 32,
   "id": "6cf8a396",
   "metadata": {},
   "outputs": [
    {
     "name": "stdout",
     "output_type": "stream",
     "text": [
      "'fox' found in the text.\n",
      "'dog' found in the text.\n"
     ]
    }
   ],
   "source": [
    "#question 15\n",
    "def search_words(input_string, words_to_search):\n",
    "    found_words = [word for word in words_to_search if word in input_string]\n",
    "    return found_words\n",
    "\n",
    "# Sample text\n",
    "sample_text = 'The quick brown fox jumps over the lazy dog.'\n",
    "\n",
    "# Words to search for\n",
    "searched_words = ['fox', 'dog', 'horse']\n",
    "\n",
    "# Search for the words and print the results\n",
    "found_words = search_words(sample_text, searched_words)\n",
    "for word in found_words:\n",
    "    print(f\"'{word}' found in the text.\")"
   ]
  },
  {
   "cell_type": "code",
   "execution_count": 33,
   "id": "6eba17fb",
   "metadata": {},
   "outputs": [
    {
     "name": "stdout",
     "output_type": "stream",
     "text": [
      "'fox' found at locations: [16]\n"
     ]
    }
   ],
   "source": [
    "#question 16\n",
    "def search_word_with_locations(input_string, word_to_search):\n",
    "    found_locations = []\n",
    "    start = 0\n",
    "    \n",
    "    while True:\n",
    "        index = input_string.find(word_to_search, start)\n",
    "        if index == -1:\n",
    "            break\n",
    "        found_locations.append(index)\n",
    "        start = index + 1\n",
    "    \n",
    "    return found_locations\n",
    "\n",
    "# Sample text\n",
    "sample_text = 'The quick brown fox jumps over the lazy dog.'\n",
    "\n",
    "# Word to search for\n",
    "searched_word = 'fox'\n",
    "\n",
    "# Search for the word and find its locations\n",
    "found_locations = search_word_with_locations(sample_text, searched_word)\n",
    "if found_locations:\n",
    "    print(f\"'{searched_word}' found at locations: {found_locations}\")\n",
    "else:\n",
    "    print(f\"'{searched_word}' not found in the text.\")"
   ]
  },
  {
   "cell_type": "code",
   "execution_count": 34,
   "id": "e50f894b",
   "metadata": {},
   "outputs": [
    {
     "name": "stdout",
     "output_type": "stream",
     "text": [
      "'exercises' found at positions: [7, 22, 36]\n"
     ]
    }
   ],
   "source": [
    "#question 17\n",
    "def find_substrings(input_string, pattern):\n",
    "    found_positions = []\n",
    "    start = 0\n",
    "    \n",
    "    while True:\n",
    "        index = input_string.find(pattern, start)\n",
    "        if index == -1:\n",
    "            break\n",
    "        found_positions.append(index)\n",
    "        start = index + 1\n",
    "    \n",
    "    return found_positions\n",
    "\n",
    "# Sample text\n",
    "sample_text = 'Python exercises, PHP exercises, C# exercises'\n",
    "\n",
    "# Pattern to search for\n",
    "pattern = 'exercises'\n",
    "\n",
    "# Find substrings and print their positions\n",
    "found_positions = find_substrings(sample_text, pattern)\n",
    "if found_positions:\n",
    "    print(f\"'{pattern}' found at positions: {found_positions}\")\n",
    "else:\n",
    "    print(f\"'{pattern}' not found in the text.\")\n"
   ]
  },
  {
   "cell_type": "code",
   "execution_count": 36,
   "id": "272beb1c",
   "metadata": {},
   "outputs": [
    {
     "name": "stdout",
     "output_type": "stream",
     "text": [
      "'sakshi' occurs at positions: [11, 19, 42, 65]\n",
      "Total occurrences: 4\n"
     ]
    }
   ],
   "source": [
    "#question 18 \n",
    "def find_substring_occurrences(input_string, substring):\n",
    "    found_occurrences = []\n",
    "    start = 0\n",
    "    \n",
    "    while True:\n",
    "        index = input_string.find(substring, start)\n",
    "        if index == -1:\n",
    "            break\n",
    "        found_occurrences.append(index)\n",
    "        start = index + 1\n",
    "    \n",
    "    return found_occurrences\n",
    "\n",
    "# Sample text\n",
    "sample_text = 'My name is sakshi. sakshi is a good girl. sakshi loves to dance. sakshi is good at cooking.'\n",
    "\n",
    "# Substring to search for\n",
    "substring = 'sakshi'\n",
    "\n",
    "# Find substring occurrences and print their positions\n",
    "occurrences = find_substring_occurrences(sample_text, substring)\n",
    "if occurrences:\n",
    "    print(f\"'{substring}' occurs at positions: {occurrences}\")\n",
    "    print(f\"Total occurrences: {len(occurrences)}\")\n",
    "else:\n",
    "    print(f\"'{substring}' not found in the text.\")"
   ]
  },
  {
   "cell_type": "code",
   "execution_count": 37,
   "id": "6929e784",
   "metadata": {},
   "outputs": [
    {
     "name": "stdout",
     "output_type": "stream",
     "text": [
      "Original date: 2003-07-01\n",
      "Converted date: 01-07-2003\n"
     ]
    }
   ],
   "source": [
    "#question 19\n",
    "def convert_date_format(input_date):\n",
    "    parts = input_date.split('-')\n",
    "    if len(parts) != 3:\n",
    "        return \"Invalid date format\"\n",
    "    \n",
    "    year, month, day = parts\n",
    "    new_date = f\"{day}-{month}-{year}\"\n",
    "    return new_date\n",
    "\n",
    "# Example usage\n",
    "input_date = \"2003-07-01\"\n",
    "converted_date = convert_date_format(input_date)\n",
    "print(f\"Original date: {input_date}\")\n",
    "print(f\"Converted date: {converted_date}\")"
   ]
  },
  {
   "cell_type": "code",
   "execution_count": 38,
   "id": "a3b1e995",
   "metadata": {},
   "outputs": [
    {
     "name": "stdout",
     "output_type": "stream",
     "text": [
      "['01.12', '145.8', '3.01', '27.25', '0.25']\n"
     ]
    }
   ],
   "source": [
    "#question 20\n",
    "import re\n",
    "\n",
    "def find_decimal_numbers(input_string):\n",
    "    pattern = re.compile(r'\\b\\d+\\.\\d{1,2}\\b')\n",
    "    return pattern.findall(input_string)\n",
    "\n",
    "# Sample text\n",
    "sample_text = \"01.12 0132.123 2.31875 145.8 3.01 27.25 0.25\"\n",
    "\n",
    "# Find decimal numbers with precision of 1 or 2 and print the result\n",
    "decimal_numbers = find_decimal_numbers(sample_text)\n",
    "print(decimal_numbers)"
   ]
  },
  {
   "cell_type": "code",
   "execution_count": 44,
   "id": "12f14405",
   "metadata": {},
   "outputs": [
    {
     "name": "stdout",
     "output_type": "stream",
     "text": [
      "Number: 123, Position: 5\n",
      "Number: 45, Position: 14\n",
      "Number: 678, Position: 21\n"
     ]
    }
   ],
   "source": [
    "#question21\n",
    "import re\n",
    "\n",
    "def extract_numbers_with_positions(text):\n",
    "    pattern = r'\\d+'  # Regular expression pattern to match numbers\n",
    "    matches = re.finditer(pattern, text)\n",
    "    \n",
    "    for match in matches:\n",
    "        number = match.group()  # Extract the matched number\n",
    "        start_pos = match.start()  # Get the starting position of the match\n",
    "        print(f\"Number: {number}, Position: {start_pos}\")\n",
    "\n",
    "input_string = \"Hello123 there45, how678 are you?\"\n",
    "extract_numbers_with_positions(input_string)\n"
   ]
  },
  {
   "cell_type": "code",
   "execution_count": 45,
   "id": "b6b94109",
   "metadata": {},
   "outputs": [
    {
     "name": "stdout",
     "output_type": "stream",
     "text": [
      "The maximum numeric value is: 950\n"
     ]
    }
   ],
   "source": [
    "#question 22\n",
    "import re\n",
    "\n",
    "def extract_max_numeric_value(text):\n",
    "    pattern = r'\\b\\d+\\b'  # Regular expression pattern to match whole numbers\n",
    "    numbers = re.findall(pattern, text)\n",
    "    \n",
    "    if numbers:\n",
    "        max_number = max(map(int, numbers))  # Convert to integers and find the maximum\n",
    "        return max_number\n",
    "    else:\n",
    "        return None  # Return None if no numbers found\n",
    "\n",
    "sample_text = 'My marks in each semester are: 947, 896, 926, 524, 734, 950, 642'\n",
    "max_numeric_value = extract_max_numeric_value(sample_text)\n",
    "\n",
    "if max_numeric_value is not None:\n",
    "    print(f\"The maximum numeric value is: {max_numeric_value}\")\n",
    "else:\n",
    "    print(\"No numeric values found in the text.\")\n"
   ]
  },
  {
   "cell_type": "code",
   "execution_count": 46,
   "id": "5523d22c",
   "metadata": {},
   "outputs": [
    {
     "name": "stdout",
     "output_type": "stream",
     "text": [
      "Regular Expression Is An Important Topic In Python\n"
     ]
    }
   ],
   "source": [
    "#question 23\n",
    "import re\n",
    "\n",
    "def insert_spaces_between_capital_words(text):\n",
    "    # Use regular expression to find words starting with capital letters\n",
    "    pattern = r'(?<=\\w)(?=[A-Z])'\n",
    "    modified_text = re.sub(pattern, ' ', text)\n",
    "    return modified_text\n",
    "\n",
    "sample_text = \"RegularExpressionIsAnImportantTopicInPython\"\n",
    "output = insert_spaces_between_capital_words(sample_text)\n",
    "print(output)\n"
   ]
  },
  {
   "cell_type": "code",
   "execution_count": 47,
   "id": "301e13f3",
   "metadata": {},
   "outputs": [
    {
     "name": "stdout",
     "output_type": "stream",
     "text": [
      "['Hello', 'Sakshi', 'Regex', 'Pattern', 'Matching', 'Messages']\n"
     ]
    }
   ],
   "source": [
    "#question 24\n",
    "import re\n",
    "\n",
    "text = \"HelloSakshi is aRegexPattern forMatchingMessages\"\n",
    "\n",
    "pattern = r'[A-Z][a-z]+'\n",
    "\n",
    "matches = re.findall(pattern, text)\n",
    "print(matches)\n"
   ]
  },
  {
   "cell_type": "code",
   "execution_count": 48,
   "id": "3f7bab91",
   "metadata": {},
   "outputs": [
    {
     "name": "stdout",
     "output_type": "stream",
     "text": [
      "Hello world\n"
     ]
    }
   ],
   "source": [
    "#question 25\n",
    "import re\n",
    "\n",
    "def remove_continuous_duplicates(sentence):\n",
    "    pattern = r'\\b(\\w+)(\\s+\\1)+\\b'  # Regular expression pattern for continuous duplicate words\n",
    "    modified_sentence = re.sub(pattern, r'\\1', sentence, flags=re.IGNORECASE)\n",
    "    return modified_sentence\n",
    "\n",
    "sample_text = \"Hello hello world world\"\n",
    "output = remove_continuous_duplicates(sample_text)\n",
    "print(output)\n"
   ]
  },
  {
   "cell_type": "code",
   "execution_count": 49,
   "id": "e70469bb",
   "metadata": {},
   "outputs": [
    {
     "name": "stdout",
     "output_type": "stream",
     "text": [
      "The string ends with an alphanumeric character.\n"
     ]
    }
   ],
   "source": [
    "#question 26\n",
    "import re\n",
    "\n",
    "def ends_with_alphanumeric(input_string):\n",
    "    pattern = r'\\w$'  # Regular expression pattern for string ending with an alphanumeric character\n",
    "    match = re.search(pattern, input_string)\n",
    "    return bool(match)\n",
    "\n",
    "sample_text = \"Hello789\"\n",
    "if ends_with_alphanumeric(sample_text):\n",
    "    print(\"The string ends with an alphanumeric character.\")\n",
    "else:\n",
    "    print(\"The string does not end with an alphanumeric character.\")\n"
   ]
  },
  {
   "cell_type": "code",
   "execution_count": 50,
   "id": "f70602a5",
   "metadata": {},
   "outputs": [
    {
     "name": "stdout",
     "output_type": "stream",
     "text": [
      "['#Doltiwal', '#xyzabc', '#Demonetization']\n"
     ]
    }
   ],
   "source": [
    "#question 27\n",
    "import re\n",
    "\n",
    "def extract_hashtags(text):\n",
    "    pattern = r'#\\w+'  # Regular expression pattern to match hashtags\n",
    "    hashtags = re.findall(pattern, text)\n",
    "    return hashtags\n",
    "\n",
    "sample_text = \"\"\"RT @kapil_kausik: #Doltiwal I mean #xyzabc is \"hurt\" by #Demonetization as the same has rendered USELESS <ed><U+00A0><U+00BD><ed><U+00B1><U+0089> \"acquired funds\" No wo\"\"\"\n",
    "hashtags = extract_hashtags(sample_text)\n",
    "print(hashtags)\n"
   ]
  },
  {
   "cell_type": "code",
   "execution_count": 51,
   "id": "dedae451",
   "metadata": {},
   "outputs": [
    {
     "name": "stdout",
     "output_type": "stream",
     "text": [
      "@Jags123456 Bharat band on 28??<ed><ed>Those who  are protesting #demonetization  are all different party leaders\n"
     ]
    }
   ],
   "source": [
    "#question 28\n",
    "import re\n",
    "\n",
    "def remove_unicode_symbols(text):\n",
    "    pattern = r'<U\\+\\w+>'  # Regular expression pattern to match <U+..> symbols\n",
    "    modified_text = re.sub(pattern, '', text)\n",
    "    return modified_text\n",
    "\n",
    "sample_text = \"@Jags123456 Bharat band on 28??<ed><U+00A0><U+00BD><ed><U+00B8><U+0082>Those who  are protesting #demonetization  are all different party leaders\"\n",
    "output = remove_unicode_symbols(sample_text)\n",
    "print(output)\n"
   ]
  },
  {
   "cell_type": "code",
   "execution_count": 42,
   "id": "ec5ee0a3",
   "metadata": {},
   "outputs": [
    {
     "ename": "FileNotFoundError",
     "evalue": "[Errno 2] No such file or directory: 'sample_text.txt'",
     "output_type": "error",
     "traceback": [
      "\u001b[1;31m---------------------------------------------------------------------------\u001b[0m",
      "\u001b[1;31mFileNotFoundError\u001b[0m                         Traceback (most recent call last)",
      "Cell \u001b[1;32mIn[42], line 11\u001b[0m\n\u001b[0;32m      7\u001b[0m     \u001b[38;5;28;01mreturn\u001b[39;00m dates\n\u001b[0;32m      9\u001b[0m file_path \u001b[38;5;241m=\u001b[39m \u001b[38;5;124m'\u001b[39m\u001b[38;5;124msample_text.txt\u001b[39m\u001b[38;5;124m'\u001b[39m  \u001b[38;5;66;03m# Replace with the actual path of your text file\u001b[39;00m\n\u001b[1;32m---> 11\u001b[0m \u001b[38;5;28;01mwith\u001b[39;00m \u001b[38;5;28;43mopen\u001b[39;49m\u001b[43m(\u001b[49m\u001b[43mfile_path\u001b[49m\u001b[43m,\u001b[49m\u001b[43m \u001b[49m\u001b[38;5;124;43m'\u001b[39;49m\u001b[38;5;124;43mr\u001b[39;49m\u001b[38;5;124;43m'\u001b[39;49m\u001b[43m)\u001b[49m \u001b[38;5;28;01mas\u001b[39;00m file:\n\u001b[0;32m     12\u001b[0m     sample_text \u001b[38;5;241m=\u001b[39m file\u001b[38;5;241m.\u001b[39mread()\n\u001b[0;32m     14\u001b[0m extracted_dates \u001b[38;5;241m=\u001b[39m extract_dates_from_text(sample_text)\n",
      "File \u001b[1;32m~\\anaconda3\\lib\\site-packages\\IPython\\core\\interactiveshell.py:282\u001b[0m, in \u001b[0;36m_modified_open\u001b[1;34m(file, *args, **kwargs)\u001b[0m\n\u001b[0;32m    275\u001b[0m \u001b[38;5;28;01mif\u001b[39;00m file \u001b[38;5;129;01min\u001b[39;00m {\u001b[38;5;241m0\u001b[39m, \u001b[38;5;241m1\u001b[39m, \u001b[38;5;241m2\u001b[39m}:\n\u001b[0;32m    276\u001b[0m     \u001b[38;5;28;01mraise\u001b[39;00m \u001b[38;5;167;01mValueError\u001b[39;00m(\n\u001b[0;32m    277\u001b[0m         \u001b[38;5;124mf\u001b[39m\u001b[38;5;124m\"\u001b[39m\u001b[38;5;124mIPython won\u001b[39m\u001b[38;5;124m'\u001b[39m\u001b[38;5;124mt let you open fd=\u001b[39m\u001b[38;5;132;01m{\u001b[39;00mfile\u001b[38;5;132;01m}\u001b[39;00m\u001b[38;5;124m by default \u001b[39m\u001b[38;5;124m\"\u001b[39m\n\u001b[0;32m    278\u001b[0m         \u001b[38;5;124m\"\u001b[39m\u001b[38;5;124mas it is likely to crash IPython. If you know what you are doing, \u001b[39m\u001b[38;5;124m\"\u001b[39m\n\u001b[0;32m    279\u001b[0m         \u001b[38;5;124m\"\u001b[39m\u001b[38;5;124myou can use builtins\u001b[39m\u001b[38;5;124m'\u001b[39m\u001b[38;5;124m open.\u001b[39m\u001b[38;5;124m\"\u001b[39m\n\u001b[0;32m    280\u001b[0m     )\n\u001b[1;32m--> 282\u001b[0m \u001b[38;5;28;01mreturn\u001b[39;00m io_open(file, \u001b[38;5;241m*\u001b[39margs, \u001b[38;5;241m*\u001b[39m\u001b[38;5;241m*\u001b[39mkwargs)\n",
      "\u001b[1;31mFileNotFoundError\u001b[0m: [Errno 2] No such file or directory: 'sample_text.txt'"
     ]
    }
   ],
   "source": [
    "#question 29\n",
    "was showing errors\n"
   ]
  },
  {
   "cell_type": "code",
   "execution_count": 52,
   "id": "12be6334",
   "metadata": {},
   "outputs": [
    {
     "name": "stdout",
     "output_type": "stream",
     "text": [
      " following example creates  ArrayList  a capacity   elements. 4 elements   added   ArrayList   ArrayList  trimmed accordingly.\n"
     ]
    }
   ],
   "source": [
    "#question 30\n",
    "import re\n",
    "\n",
    "def remove_words_of_length_between_2_and_4(text):\n",
    "    pattern = re.compile(r'\\b\\w{2,4}\\b')  # Regular expression pattern for words of length 2 to 4\n",
    "    modified_text = pattern.sub('', text)\n",
    "    return modified_text\n",
    "\n",
    "sample_text = \"The following example creates an ArrayList with a capacity of 50 elements. 4 elements are then added to the ArrayList and the ArrayList is trimmed accordingly.\"\n",
    "output = remove_words_of_length_between_2_and_4(sample_text)\n",
    "print(output)\n"
   ]
  },
  {
   "cell_type": "code",
   "execution_count": null,
   "id": "fbf789b2",
   "metadata": {},
   "outputs": [],
   "source": []
  }
 ],
 "metadata": {
  "kernelspec": {
   "display_name": "Python 3 (ipykernel)",
   "language": "python",
   "name": "python3"
  },
  "language_info": {
   "codemirror_mode": {
    "name": "ipython",
    "version": 3
   },
   "file_extension": ".py",
   "mimetype": "text/x-python",
   "name": "python",
   "nbconvert_exporter": "python",
   "pygments_lexer": "ipython3",
   "version": "3.10.9"
  }
 },
 "nbformat": 4,
 "nbformat_minor": 5
}
